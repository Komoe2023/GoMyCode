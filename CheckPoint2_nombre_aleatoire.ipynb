{
 "cells": [
  {
   "cell_type": "code",
   "execution_count": null,
   "id": "af73f2af",
   "metadata": {},
   "outputs": [],
   "source": [
    "import random\n",
    "num = random.randint(1, 100)\n",
    "ess = 0\n",
    "while True:\n",
    "    ess+=1\n",
    "    print('Déviner un nombre entre 1 et 100')\n",
    "    devinette = input()\n",
    "    i = int(devinette)\n",
    "    if i == num:\n",
    "        print('Bravo: Vous avez gagné!!!')\n",
    "        break\n",
    "    elif i < num:\n",
    "               print('Essaie un nombre Plus haut')\n",
    "    elif i > num:\n",
    "               print('Essaie un nombre plus bas')\n",
    "    if ess==10:\n",
    "        break\n"
   ]
  }
 ],
 "metadata": {
  "kernelspec": {
   "display_name": "Python 3 (ipykernel)",
   "language": "python",
   "name": "python3"
  },
  "language_info": {
   "codemirror_mode": {
    "name": "ipython",
    "version": 3
   },
   "file_extension": ".py",
   "mimetype": "text/x-python",
   "name": "python",
   "nbconvert_exporter": "python",
   "pygments_lexer": "ipython3",
   "version": "3.10.9"
  }
 },
 "nbformat": 4,
 "nbformat_minor": 5
}
